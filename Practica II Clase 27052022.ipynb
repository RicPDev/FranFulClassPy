{
 "cells": [
  {
   "cell_type": "markdown",
   "id": "ed10f4c2",
   "metadata": {},
   "source": [
    "## 1 – Realizar un programa que solicite al usuario un número indeterminado de números (mientras se tecleen números que no sean cero)."
   ]
  },
  {
   "cell_type": "code",
   "execution_count": null,
   "id": "b8cae1ba",
   "metadata": {},
   "outputs": [],
   "source": [
    "#1 – Realizar un programa que solicite al usuario un número indeterminado de números \n",
    "#(mientras se tecleen números que no sean cero). \n",
    "#Al salir el programa debe dar en pantalla el total de números dados y la suma de ellos.\n",
    "#numero=0\n",
    "suma=0\n",
    "while(True):\n",
    "    numero=int(input(\"Ingrese el numero: \"))\n",
    "    suma = suma + numero\n",
    "    if numero == 0:\n",
    "        break\n",
    "print(\"El resultado de la suma de los numeros es: \", suma)"
   ]
  },
  {
   "cell_type": "markdown",
   "id": "dd12cb0c",
   "metadata": {},
   "source": [
    "## 2- Realizar un programa que presente un menú con las siguientes opciones\n",
    "#### 1) Convertir grados a Celsius a Fahrenheit \n",
    "#### 2) Convertir dólar a pesos \n",
    "#### 3) Convertir metros a pies \n",
    "#### 4) Salir"
   ]
  },
  {
   "cell_type": "code",
   "execution_count": null,
   "id": "b9819f66",
   "metadata": {},
   "outputs": [],
   "source": [
    "identidad=0\n",
    "while (True):\n",
    "    print('''Menu de Operaciones\n",
    "          Presiona 1 = Para convertir Grados celsius a Farenheit\n",
    "          Presiona 2 = Para convertir Dolar a pesos\n",
    "          Presiona 3 = Para convertir Metros a pie\n",
    "          Presiona 4 = para salir''')\n",
    "    print(\"------------------------------------------------------\")\n",
    "    identidad=int(input(\"digite el indicador del menu: \"))\n",
    "    if identidad == 1:\n",
    "        numero1=int(input(\"Digite los grados Celcius a convertir: \"))\n",
    "        Fa=(numero1*1.8)+32\n",
    "        print(\"Los grados Faremheit son: \",Fa)\n",
    "        print(\"------------------------------------------------------\")\n",
    "    if identidad == 2:\n",
    "        numero1=int(input(\"Digite el monto de dolares a convertir: \"))\n",
    "        Resul=numero1*55.50\n",
    "        print(\"La conversion brinda un monto de : \",Resul,\" Pesos\")\n",
    "        print(\"------------------------------------------------------\")\n",
    "    if identidad == 3:\n",
    "        numero1=int(input(\"Digite la cantidad de pies a convertir: \"))\n",
    "        Resul=numero1*3\n",
    "        print(\"La conversion da un monto de : \",Resul,\" De pies\")\n",
    "        print(\"------------------------------------------------------\")\n",
    "    if identidad == 4:\n",
    "        break\n",
    "print(\"La operacion ha Finalizado\")\n"
   ]
  },
  {
   "cell_type": "markdown",
   "id": "1e545455",
   "metadata": {},
   "source": [
    "## 3- Hacer un programa que genere las tablas de multiplicar de los números múltiplos de 5 que hay entre 1 y 1000"
   ]
  },
  {
   "cell_type": "code",
   "execution_count": null,
   "id": "c04622f3",
   "metadata": {},
   "outputs": [],
   "source": [
    "for i in range(1,1000):\n",
    "    if i%5==0:        \n",
    "        for x in range(1,13):\n",
    "            print(i,\"por\", x, \"es: \",i*x)\n",
    "        print(\"----------------------\")\n",
    "            "
   ]
  },
  {
   "cell_type": "markdown",
   "id": "7cd27a85",
   "metadata": {},
   "source": [
    "## 4- Realizar un programa que reciba por teclado el sueldo de un empleado y le aplique los cálculos de ISR (ver tabla DGII), ARS, y AFP (investigar porcentajes)"
   ]
  },
  {
   "cell_type": "code",
   "execution_count": null,
   "id": "45061cae",
   "metadata": {},
   "outputs": [],
   "source": [
    "exento=416220.00\n",
    "tope1=416220.01\n",
    "tope2=624329.01\n",
    "tope3=867123.01\n",
    "sueldo=int(input(\"Digite el suedlo: \"))\n",
    "#Seguro Familiar de salud \n",
    "sfs=sueldo*0.0304\n",
    "#Administraciond de fondo de pensiones \n",
    "afp=sueldo*0.0287\n",
    "\n",
    "print(\"El descuento sobre Seguro Familiar de Salud es: \",format(sfs,'0,.2f'))\n",
    "print(\"El descuento sobre la administracion de fondo de pensiones es: \",format(afp,'0,.2f'))\n",
    "sueldo=sueldo-sfs-afp\n",
    "\n",
    "if sueldo*12<=exento:\n",
    "    print(\"El sueldo \",sueldo,\"esta exento de impuestos\")\n",
    "elif sueldo*12>=tope1 and sueldo*12<=tope2:\n",
    "    f1=sueldo*12-tope1\n",
    "    imp=(f1*0.15)/12\n",
    "    print(\"las retenciones a aplicar son:\",imp)\n",
    "\n",
    "elif sueldo*12>=tope2 and sueldo*12<=tope3:\n",
    "    f1=(sueldo*12-tope2)*0.20\n",
    "    c=(f1+31216.00)/12\n",
    "    print(\"El impuesto a aplicar es de: \", c)\n",
    "\n",
    "else:\n",
    "    f1=(sueldo*12)-tope3\n",
    "    x=f1*0.25\n",
    "    c=(x+79776.00)/12\n",
    "    print(\"-- El impuesto a descontar es: \",format(c,'0,.2f'))\n",
    "print(\"-- El saldo neto a devengar es: \",format(sueldo-c,'0,.2f'))\n"
   ]
  },
  {
   "cell_type": "markdown",
   "id": "3f91dbcc",
   "metadata": {},
   "source": [
    "## 5-Cree una aplicación de cajero automático para el banco ABC. El cajero tendrá un límite de billetes descrito a continuación: 9 de 1000, 19 de 500, 99 de 100\n",
    "#### El cajero debe solicitar Banco y monto a retirar. Si el banco es ABC el limite de retiro son 10,000 y 2000 pesos por transacción en caso contrario. El cajero debe informar si el monto solicitado no puede ser dispensado o si excede el límite de transacción. Y debe hacer la distribución de los billetes de acuerdo al monto. Por ejemplo, si el usuario solicita 3,900 y hay disponibilidad en todos los billetes, el cajero debe dispensar 3 billetes de mil, 1 de quinientos y 4 de cien."
   ]
  },
  {
   "cell_type": "code",
   "execution_count": 34,
   "id": "39d6c47a",
   "metadata": {},
   "outputs": [
    {
     "name": "stdout",
     "output_type": "stream",
     "text": [
      "Digite 1 para seleccionar el banco ABC: 1\n",
      "Bienvenido al banco ABC:\n",
      "Digite el monto que desea retirar: 2500\n",
      "el monto a retirar es:  2,500.00\n"
     ]
    }
   ],
   "source": [
    "b1=\n",
    "iden=int(input(\"Digite 1 para seleccionar el banco ABC: \"))\n",
    "if iden ==1:\n",
    "    print(\"Bienvenido al banco ABC:\")\n",
    "    monto=int(input(\"Digite el monto que desea retirar: \"))\n",
    "    print(\"el monto a retirar es: \",format(monto,'0,.2f'))\n",
    "else:\n",
    "    print(\"Los demas Bancos no estan Disponibles\")\n",
    "    \n"
   ]
  },
  {
   "cell_type": "code",
   "execution_count": null,
   "id": "02394a1b",
   "metadata": {},
   "outputs": [],
   "source": []
  }
 ],
 "metadata": {
  "kernelspec": {
   "display_name": "Python 3 (ipykernel)",
   "language": "python",
   "name": "python3"
  },
  "language_info": {
   "codemirror_mode": {
    "name": "ipython",
    "version": 3
   },
   "file_extension": ".py",
   "mimetype": "text/x-python",
   "name": "python",
   "nbconvert_exporter": "python",
   "pygments_lexer": "ipython3",
   "version": "3.9.7"
  }
 },
 "nbformat": 4,
 "nbformat_minor": 5
}
