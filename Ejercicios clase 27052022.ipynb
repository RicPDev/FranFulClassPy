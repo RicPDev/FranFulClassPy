{
 "cells": [
  {
   "cell_type": "code",
   "execution_count": null,
   "id": "02394a1b",
   "metadata": {},
   "outputs": [],
   "source": [
    "while True:\n",
    "    try:\n",
    "        n1=int(input(\"Escriba el primer numero: \"))\n",
    "        n2=int(input(\"Escriba el segundo numero \"))\n",
    "        print(\"El resuttado es: \",format(n1/n2, '0.0f')) \n",
    "    except ZeroDivisionError:\n",
    "        print(\"La division entre cero no esta permitida\")\n",
    "    except:\n",
    "        print(\"[** Ingrese solo numero **]\")\n",
    "    finally:\n",
    "        print(\"-- Gracias por usar nuestro programa --\")"
   ]
  },
  {
   "cell_type": "code",
   "execution_count": 11,
   "id": "debdd234",
   "metadata": {},
   "outputs": [
    {
     "name": "stdout",
     "output_type": "stream",
     "text": [
      "Ingrese un numero: 2\n",
      "el numero elevado a la 3 es:  8\n",
      "Gracias por usar el programa Creado por Ric\n",
      "Ingrese un numero: 0\n",
      "Gracias por usar el programa Creado por Ric\n"
     ]
    }
   ],
   "source": [
    "while True:\n",
    "    try:\n",
    "        numero=int(input(\"Ingrese un numero: \"))\n",
    "        if numero==0:\n",
    "            break\n",
    "        else:\n",
    "            print(\"el numero elevado a la 3 es: \",numero**3)\n",
    "    except:\n",
    "        print(\"Escriba un numero valido!\")\n",
    "    finally:\n",
    "        print(\"Gracias por usar el programa Creado por Ric\")"
   ]
  },
  {
   "cell_type": "code",
   "execution_count": null,
   "id": "d4e11ccf",
   "metadata": {},
   "outputs": [],
   "source": []
  }
 ],
 "metadata": {
  "kernelspec": {
   "display_name": "Python 3 (ipykernel)",
   "language": "python",
   "name": "python3"
  },
  "language_info": {
   "codemirror_mode": {
    "name": "ipython",
    "version": 3
   },
   "file_extension": ".py",
   "mimetype": "text/x-python",
   "name": "python",
   "nbconvert_exporter": "python",
   "pygments_lexer": "ipython3",
   "version": "3.9.7"
  }
 },
 "nbformat": 4,
 "nbformat_minor": 5
}
