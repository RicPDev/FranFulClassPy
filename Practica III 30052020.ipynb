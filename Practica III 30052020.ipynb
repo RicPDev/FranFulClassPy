{
 "cells": [
  {
   "cell_type": "code",
   "execution_count": 11,
   "id": "f695c05f",
   "metadata": {},
   "outputs": [
    {
     "name": "stdout",
     "output_type": "stream",
     "text": [
      "Escriba un numero: 2\n",
      "Escriba un numero: 3\n",
      "El valor es:  8\n"
     ]
    }
   ],
   "source": [
    "def potenciade(x,y):\n",
    "    potencia = x**y\n",
    "    print(\"El valor es: \", potencia)\n",
    "    \n",
    "potenciade(x=int(input(\"Escriba un numero: \")),y=int(input(\"Escriba un numero: \")))\n"
   ]
  },
  {
   "cell_type": "markdown",
   "id": "ae2302f1",
   "metadata": {},
   "source": [
    "#### 2- Realizar una función que pida por pantalla un número del 1 al 10 y muestre por pantalla el número escrito en letras."
   ]
  },
  {
   "cell_type": "code",
   "execution_count": 19,
   "id": "ecf956d3",
   "metadata": {},
   "outputs": [
    {
     "name": "stdout",
     "output_type": "stream",
     "text": [
      "Escriba un numero: 2\n",
      "El valor es:  1,024\n"
     ]
    }
   ],
   "source": [
    "def potenciade(x):\n",
    "    potencia = x**10\n",
    "    print(\"El valor es: \", format(potencia,'0,.0f'))\n",
    "    \n",
    "potenciade(x=int(input(\"Escriba un numero: \")))"
   ]
  },
  {
   "cell_type": "markdown",
   "id": "0be479b3",
   "metadata": {},
   "source": [
    "### 3- Hacer una función que reciba un año como argumento y retorne verdadero si es bisiesto"
   ]
  },
  {
   "cell_type": "markdown",
   "id": "42683522",
   "metadata": {},
   "source": [
    "### 4- Crear una función que evalúe dos números y retorne verdadero si ambos números son iguales."
   ]
  },
  {
   "cell_type": "code",
   "execution_count": 21,
   "id": "7c953671",
   "metadata": {},
   "outputs": [
    {
     "name": "stdout",
     "output_type": "stream",
     "text": [
      "Escriba un numero: 2\n",
      "Escriba un numero: 2\n",
      "Verdadero\n"
     ]
    }
   ],
   "source": [
    "def compara(x,y):\n",
    "    if x==y:\n",
    "        print(\"Verdadero\")\n",
    "    else:\n",
    "        print(\"Falso\")\n",
    "\n",
    "compara(x=int(input(\"Escriba un numero: \")),y=int(input(\"Escriba un numero: \")))"
   ]
  },
  {
   "cell_type": "markdown",
   "id": "c3ce1c03",
   "metadata": {},
   "source": [
    "### 5- Un número palindrómico se lee igual en ambos sentidos. El palíndromo más grande hecho del producto de dos números de 2 dígitos es 9009 = 91 × 99. Cree una función que encuentre el palíndromo más grande hecho del producto de dos números de 3 dígitos."
   ]
  },
  {
   "cell_type": "code",
   "execution_count": null,
   "id": "3e414625",
   "metadata": {},
   "outputs": [],
   "source": []
  }
 ],
 "metadata": {
  "kernelspec": {
   "display_name": "Python 3 (ipykernel)",
   "language": "python",
   "name": "python3"
  },
  "language_info": {
   "codemirror_mode": {
    "name": "ipython",
    "version": 3
   },
   "file_extension": ".py",
   "mimetype": "text/x-python",
   "name": "python",
   "nbconvert_exporter": "python",
   "pygments_lexer": "ipython3",
   "version": "3.9.7"
  }
 },
 "nbformat": 4,
 "nbformat_minor": 5
}
